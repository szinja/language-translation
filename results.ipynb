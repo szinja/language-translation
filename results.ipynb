{
 "cells": [
  {
   "cell_type": "markdown",
   "metadata": {},
   "source": [
    "### Xhosa to English Machine Translation\n",
    "> We will use the [Bilingual isiXhosa corpus](ttps://hdl.handle.net/20.500.12185/525) dataset, a collection of texts that are aligned at the sentence level, where each sentence in English is matched with its direct translation in isiXhosa."
   ]
  },
  {
   "cell_type": "markdown",
   "metadata": {},
   "source": [
    "### Dataset Preparation"
   ]
  },
  {
   "cell_type": "code",
   "execution_count": null,
   "metadata": {
    "vscode": {
     "languageId": "plaintext"
    }
   },
   "outputs": [],
   "source": []
  }
 ],
 "metadata": {
  "language_info": {
   "name": "python"
  }
 },
 "nbformat": 4,
 "nbformat_minor": 2
}
